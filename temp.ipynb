{
 "cells": [
  {
   "cell_type": "code",
   "execution_count": null,
   "metadata": {},
   "outputs": [],
   "source": [
    "import numpy as np\n",
    "from huggingface_hub.utils import HfFolder\n",
    "# from huggingface_hub import notebook_login, from_pretrained, notebook_login\n",
    "if HfFolder.get_token() is None:\n",
    "   notebook_login()\n",
    "\n",
    "from transformers import AutoModel\n",
    "\n",
    "model = AutoModel.from_pretrained(\"google/hear\")\n",
    "\n",
    "\n",
    "# Load the model from Hugging Face\n",
    "# model = from_pretrained(\"google/hear\",)\n",
    "# serving_signature = model.signatures['serving_default']\n",
    "\n",
    "\n",
    "# # Generate 4 Examples of two-second random audio clips\n",
    "# raw_audio_batch = np.random.normal(size=(4, 32000))\n",
    "\n",
    "\n",
    "# # Perform Inference to obtain HeAR embeddings\n",
    "# # There are 4 embeddings each with length 512 corresponding to the 4 inputs\n",
    "# embedding_batch = serving_signature(x=raw_audio_batch)['output_0'].numpy()\n",
    "\n",
    "print(model)\n"
   ]
  },
  {
   "cell_type": "code",
   "execution_count": null,
   "metadata": {},
   "outputs": [],
   "source": [
    "\n",
    "\n",
    "print(model)"
   ]
  },
  {
   "cell_type": "code",
   "execution_count": null,
   "metadata": {},
   "outputs": [],
   "source": [
    "import torch\n",
    "\n",
    "# Load the model from local folder\n",
    "\n"
   ]
  }
 ],
 "metadata": {
  "kernelspec": {
   "display_name": "Python 3",
   "language": "python",
   "name": "python3"
  },
  "language_info": {
   "codemirror_mode": {
    "name": "ipython",
    "version": 3
   },
   "file_extension": ".py",
   "mimetype": "text/x-python",
   "name": "python",
   "nbconvert_exporter": "python",
   "pygments_lexer": "ipython3",
   "version": "3.8.10"
  }
 },
 "nbformat": 4,
 "nbformat_minor": 2
}
